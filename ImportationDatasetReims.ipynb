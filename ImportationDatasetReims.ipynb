{
  "nbformat": 4,
  "nbformat_minor": 0,
  "metadata": {
    "colab": {
      "name": "ImportationDatasetReims.ipynb",
      "provenance": [],
      "collapsed_sections": [],
      "authorship_tag": "ABX9TyOOd5zkbMDxgzA7/i025rjg",
      "include_colab_link": true
    },
    "kernelspec": {
      "name": "python3",
      "display_name": "Python 3"
    },
    "language_info": {
      "name": "python"
    }
  },
  "cells": [
    {
      "cell_type": "markdown",
      "metadata": {
        "id": "view-in-github",
        "colab_type": "text"
      },
      "source": [
        "<a href=\"https://colab.research.google.com/github/Aubinrocky/Immobilier/blob/main/ImportationDatasetReims.ipynb\" target=\"_parent\"><img src=\"https://colab.research.google.com/assets/colab-badge.svg\" alt=\"Open In Colab\"/></a>"
      ]
    },
    {
      "cell_type": "code",
      "metadata": {
        "id": "BA6xW7zs8_GF"
      },
      "source": [
        "import pandas as pd\n",
        "import numpy as np\n",
        "import matplotlib.pyplot as plt"
      ],
      "execution_count": 2,
      "outputs": []
    },
    {
      "cell_type": "code",
      "metadata": {
        "id": "zanCKjA4-zAZ",
        "colab": {
          "base_uri": "https://localhost:8080/"
        },
        "outputId": "2c8bd128-bf41-4d21-dd88-ecdf25f5f9da"
      },
      "source": [
        "dataset_1 = pd.concat([pd.read_csv('https://static.data.gouv.fr/resources/demandes-de-valeurs-foncieres/20211020-111113/valeursfoncieres-2020.txt', sep = '|'),pd.read_csv('https://static.data.gouv.fr/resources/demandes-de-valeurs-foncieres/20211020-110806/valeursfoncieres-2019.txt', sep = '|')\n",
        "  ,pd.read_csv('https://static.data.gouv.fr/resources/demandes-de-valeurs-foncieres/20211020-110525/valeursfoncieres-2018.txt', sep = '|')])"
      ],
      "execution_count": 3,
      "outputs": [
        {
          "output_type": "stream",
          "name": "stderr",
          "text": [
            "/usr/local/lib/python3.7/dist-packages/IPython/core/interactiveshell.py:2718: DtypeWarning: Columns (18,23,24,26,28,31,33,41) have mixed types.Specify dtype option on import or set low_memory=False.\n",
            "  interactivity=interactivity, compiler=compiler, result=result)\n",
            "/usr/local/lib/python3.7/dist-packages/IPython/core/interactiveshell.py:2718: DtypeWarning: Columns (18,23,24,26,28,29,31,33,41) have mixed types.Specify dtype option on import or set low_memory=False.\n",
            "  interactivity=interactivity, compiler=compiler, result=result)\n",
            "/usr/local/lib/python3.7/dist-packages/IPython/core/interactiveshell.py:2718: DtypeWarning: Columns (18,23,24,26,28,29,31,32,33,41) have mixed types.Specify dtype option on import or set low_memory=False.\n",
            "  interactivity=interactivity, compiler=compiler, result=result)\n"
          ]
        }
      ]
    },
    {
      "cell_type": "code",
      "metadata": {
        "id": "WFEnGzb_s_SR"
      },
      "source": [
        "dataReims_1 = dataset_1[dataset_1[\"Commune\"]==\"REIMS\"]"
      ],
      "execution_count": 4,
      "outputs": []
    },
    {
      "cell_type": "code",
      "metadata": {
        "id": "ofUzmS7zkmq_"
      },
      "source": [
        "del dataset_1"
      ],
      "execution_count": 5,
      "outputs": []
    },
    {
      "cell_type": "code",
      "metadata": {
        "id": "GyE1e-tytdMC",
        "colab": {
          "base_uri": "https://localhost:8080/"
        },
        "outputId": "ea236cfa-dade-44de-d864-c79e38eb5f56"
      },
      "source": [
        "dataset_2 = pd.read_csv('https://static.data.gouv.fr/resources/demandes-de-valeurs-foncieres/20211020-110129/valeursfoncieres-2017.txt', sep = '|')\n",
        "dataReims_2 = dataset_2[dataset_2[\"Commune\"]==\"REIMS\"]\n",
        "del dataset_2\n",
        "dataReims = pd.concat([dataReims_1,dataReims_2])"
      ],
      "execution_count": 6,
      "outputs": [
        {
          "output_type": "stream",
          "name": "stderr",
          "text": [
            "/usr/local/lib/python3.7/dist-packages/IPython/core/interactiveshell.py:2718: DtypeWarning: Columns (18,23,24,26,28,31,33,41) have mixed types.Specify dtype option on import or set low_memory=False.\n",
            "  interactivity=interactivity, compiler=compiler, result=result)\n"
          ]
        }
      ]
    },
    {
      "cell_type": "code",
      "metadata": {
        "colab": {
          "base_uri": "https://localhost:8080/"
        },
        "id": "wOJBPk-HmID5",
        "outputId": "b6723278-5e7c-479b-b26b-33d5d2a2719b"
      },
      "source": [
        "dataReims.shape"
      ],
      "execution_count": 7,
      "outputs": [
        {
          "output_type": "execute_result",
          "data": {
            "text/plain": [
              "(28075, 43)"
            ]
          },
          "metadata": {},
          "execution_count": 7
        }
      ]
    },
    {
      "cell_type": "code",
      "metadata": {
        "id": "S-v4rODUmNxu"
      },
      "source": [
        "datasetReims = dataReims.drop([\"Identifiant local\",\"Prefixe de section\",\"Code service CH\", \"Reference document\",\"1 Articles CGI\", \"2 Articles CGI\",\n",
        "   \"3 Articles CGI\", \"4 Articles CGI\", \"5 Articles CGI\", \"No disposition\", \"B/T/Q\", \"No Volume\", \"1er lot\", \"Surface Carrez du 1er lot\", \"2eme lot\", \"Surface Carrez du 2eme lot\", \"3eme lot\", \"Surface Carrez du 3eme lot\", \"4eme lot\", \"Surface Carrez du 4eme lot\", \"5eme lot\", \"Surface Carrez du 5eme lot\", \"Nature culture\",\"Nature culture speciale\", \"Surface terrain\"], axis=1)\n",
        "\n",
        "del dataReims"
      ],
      "execution_count": 8,
      "outputs": []
    },
    {
      "cell_type": "code",
      "metadata": {
        "colab": {
          "base_uri": "https://localhost:8080/"
        },
        "id": "hyELpcFPpTRi",
        "outputId": "f5b9190c-78d3-4d75-e5c5-9c980d8a77b9"
      },
      "source": [
        "datasetReims.isnull().sum()"
      ],
      "execution_count": 9,
      "outputs": [
        {
          "output_type": "execute_result",
          "data": {
            "text/plain": [
              "Date mutation                   0\n",
              "Nature mutation                 0\n",
              "Valeur fonciere               361\n",
              "No voie                      2633\n",
              "Type de voie                  732\n",
              "Code voie                     472\n",
              "Voie                          472\n",
              "Code postal                   472\n",
              "Commune                         0\n",
              "Code departement                0\n",
              "Code commune                    0\n",
              "Section                         0\n",
              "No plan                         0\n",
              "Nombre de lots                  0\n",
              "Code type local              4102\n",
              "Type local                   4102\n",
              "Surface reelle bati          4121\n",
              "Nombre pieces principales    4121\n",
              "dtype: int64"
            ]
          },
          "metadata": {},
          "execution_count": 9
        }
      ]
    },
    {
      "cell_type": "code",
      "metadata": {
        "id": "cZdkFD3ov0vV"
      },
      "source": [
        "datasetReims_final = datasetReims[datasetReims[\"Type local\"].isin([\"Appartement\", \"Maison\"])]"
      ],
      "execution_count": 11,
      "outputs": []
    },
    {
      "cell_type": "code",
      "metadata": {
        "id": "p6bwaeRjhY4G"
      },
      "source": [
        "datasetReims_final = datasetReims_final[datasetReims_final[\"Nature mutation\"].isin([\"Vente\", \"Vente en l'état futur d'achèvement\"])]"
      ],
      "execution_count": 12,
      "outputs": []
    },
    {
      "cell_type": "code",
      "metadata": {
        "colab": {
          "base_uri": "https://localhost:8080/",
          "height": 17
        },
        "id": "9LvC3fx0ywat",
        "outputId": "a476745b-57ce-46ba-8594-dfc294a76684"
      },
      "source": [
        "#Telechargement du dataset des appartements de Reims 2017, 2018, 2019, 2020\n",
        "from google.colab import files\n",
        "\n",
        "datasetReims_appartement.to_csv('datasetReimsImmobilier.csv')\n",
        "files.download('datasetReimsImmobilier.csv')"
      ],
      "execution_count": 16,
      "outputs": [
        {
          "output_type": "display_data",
          "data": {
            "application/javascript": [
              "\n",
              "    async function download(id, filename, size) {\n",
              "      if (!google.colab.kernel.accessAllowed) {\n",
              "        return;\n",
              "      }\n",
              "      const div = document.createElement('div');\n",
              "      const label = document.createElement('label');\n",
              "      label.textContent = `Downloading \"${filename}\": `;\n",
              "      div.appendChild(label);\n",
              "      const progress = document.createElement('progress');\n",
              "      progress.max = size;\n",
              "      div.appendChild(progress);\n",
              "      document.body.appendChild(div);\n",
              "\n",
              "      const buffers = [];\n",
              "      let downloaded = 0;\n",
              "\n",
              "      const channel = await google.colab.kernel.comms.open(id);\n",
              "      // Send a message to notify the kernel that we're ready.\n",
              "      channel.send({})\n",
              "\n",
              "      for await (const message of channel.messages) {\n",
              "        // Send a message to notify the kernel that we're ready.\n",
              "        channel.send({})\n",
              "        if (message.buffers) {\n",
              "          for (const buffer of message.buffers) {\n",
              "            buffers.push(buffer);\n",
              "            downloaded += buffer.byteLength;\n",
              "            progress.value = downloaded;\n",
              "          }\n",
              "        }\n",
              "      }\n",
              "      const blob = new Blob(buffers, {type: 'application/binary'});\n",
              "      const a = document.createElement('a');\n",
              "      a.href = window.URL.createObjectURL(blob);\n",
              "      a.download = filename;\n",
              "      div.appendChild(a);\n",
              "      a.click();\n",
              "      div.remove();\n",
              "    }\n",
              "  "
            ],
            "text/plain": [
              "<IPython.core.display.Javascript object>"
            ]
          },
          "metadata": {}
        },
        {
          "output_type": "display_data",
          "data": {
            "application/javascript": [
              "download(\"download_8a6b752e-184d-433f-bf44-7c44a72651d9\", \"datasetReimsImmobilier.csv\", 1438317)"
            ],
            "text/plain": [
              "<IPython.core.display.Javascript object>"
            ]
          },
          "metadata": {}
        }
      ]
    }
  ]
}